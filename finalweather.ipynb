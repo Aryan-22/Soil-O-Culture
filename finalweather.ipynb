{
 "cells": [
  {
   "cell_type": "code",
   "execution_count": 1,
   "id": "37fcf67f",
   "metadata": {},
   "outputs": [
    {
     "name": "stdout",
     "output_type": "stream",
     "text": [
      "enter the number of days for forecast 20\n",
      "Enter the cityghaziabad\n",
      "dict_keys(['location', 'current', 'forecast']) \n",
      "\n",
      "2023-07-03\n",
      "2023-07-03\n",
      "Clear\n",
      " Will it rain : No\n",
      "\n",
      "2023-07-04\n",
      "Clear\n",
      " Will it rain : No\n",
      "\n",
      "2023-07-05\n",
      "Partly cloudy\n",
      " Will it rain : No\n",
      "\n"
     ]
    },
    {
     "ename": "IndexError",
     "evalue": "list index out of range",
     "output_type": "error",
     "traceback": [
      "\u001b[1;31m---------------------------------------------------------------------------\u001b[0m",
      "\u001b[1;31mIndexError\u001b[0m                                Traceback (most recent call last)",
      "Cell \u001b[1;32mIn[1], line 14\u001b[0m\n\u001b[0;32m     10\u001b[0m \u001b[38;5;66;03m#print( data['forecast']['forecastday'][i]['hour'][0]['condition']['code'])\u001b[39;00m\n\u001b[0;32m     13\u001b[0m \u001b[38;5;28;01mfor\u001b[39;00m i \u001b[38;5;129;01min\u001b[39;00m \u001b[38;5;28mrange\u001b[39m(\u001b[38;5;241m0\u001b[39m, m):\n\u001b[1;32m---> 14\u001b[0m     \u001b[38;5;28mprint\u001b[39m(\u001b[43mdata\u001b[49m\u001b[43m[\u001b[49m\u001b[38;5;124;43m'\u001b[39;49m\u001b[38;5;124;43mforecast\u001b[39;49m\u001b[38;5;124;43m'\u001b[39;49m\u001b[43m]\u001b[49m\u001b[43m[\u001b[49m\u001b[38;5;124;43m'\u001b[39;49m\u001b[38;5;124;43mforecastday\u001b[39;49m\u001b[38;5;124;43m'\u001b[39;49m\u001b[43m]\u001b[49m\u001b[43m[\u001b[49m\u001b[43mi\u001b[49m\u001b[43m]\u001b[49m[\u001b[38;5;124m'\u001b[39m\u001b[38;5;124mdate\u001b[39m\u001b[38;5;124m'\u001b[39m])\n\u001b[0;32m     15\u001b[0m     \u001b[38;5;28mprint\u001b[39m(data[\u001b[38;5;124m'\u001b[39m\u001b[38;5;124mforecast\u001b[39m\u001b[38;5;124m'\u001b[39m][\u001b[38;5;124m'\u001b[39m\u001b[38;5;124mforecastday\u001b[39m\u001b[38;5;124m'\u001b[39m][i][\u001b[38;5;124m'\u001b[39m\u001b[38;5;124mhour\u001b[39m\u001b[38;5;124m'\u001b[39m][\u001b[38;5;241m0\u001b[39m][\u001b[38;5;124m'\u001b[39m\u001b[38;5;124mcondition\u001b[39m\u001b[38;5;124m'\u001b[39m][\u001b[38;5;124m'\u001b[39m\u001b[38;5;124mtext\u001b[39m\u001b[38;5;124m'\u001b[39m])\n\u001b[0;32m     16\u001b[0m     \u001b[38;5;28;01mif\u001b[39;00m(data[\u001b[38;5;124m'\u001b[39m\u001b[38;5;124mforecast\u001b[39m\u001b[38;5;124m'\u001b[39m][\u001b[38;5;124m'\u001b[39m\u001b[38;5;124mforecastday\u001b[39m\u001b[38;5;124m'\u001b[39m][i][\u001b[38;5;124m'\u001b[39m\u001b[38;5;124mhour\u001b[39m\u001b[38;5;124m'\u001b[39m][\u001b[38;5;241m0\u001b[39m][\u001b[38;5;124m'\u001b[39m\u001b[38;5;124mwill_it_rain\u001b[39m\u001b[38;5;124m'\u001b[39m]\u001b[38;5;241m==\u001b[39m\u001b[38;5;241m0\u001b[39m):\n",
      "\u001b[1;31mIndexError\u001b[0m: list index out of range"
     ]
    }
   ],
   "source": [
    "import requests\n",
    "num = input(\"enter the number of days for forecast \")\n",
    "city= input(\"Enter the city\")\n",
    "url = 'https://api.weatherapi.com/v1/forecast.json?key=e997e759eb8f4d5c805100222232301&q='+city+'&days='+num\n",
    "res= requests.get(url)\n",
    "data= res.json()\n",
    "print(data.keys(),\"\\n\")\n",
    "print(data['forecast']['forecastday'][0]['date'])\n",
    "m =int(num)\n",
    "#print( data['forecast']['forecastday'][i]['hour'][0]['condition']['code'])\n",
    "\n",
    "    \n",
    "for i in range(0, m):\n",
    "    print(data['forecast']['forecastday'][i]['date'])\n",
    "    print(data['forecast']['forecastday'][i]['hour'][0]['condition']['text'])\n",
    "    if(data['forecast']['forecastday'][i]['hour'][0]['will_it_rain']==0):\n",
    "        print(\" Will it rain : No\\n\")\n",
    "    else:\n",
    "        print(\"Will it rain: Yes\\n\")\n",
    "        \n",
    "   \n",
    "   \n",
    "\n",
    "        "
   ]
  },
  {
   "cell_type": "code",
   "execution_count": 2,
   "id": "25805191",
   "metadata": {
    "scrolled": true
   },
   "outputs": [
    {
     "name": "stdout",
     "output_type": "stream",
     "text": [
      "enter the number of days for forecast 20\n",
      "Enter the cityghaziabad\n",
      "2023-07-03\n",
      "2023-07-04\n",
      "2023-07-05\n"
     ]
    },
    {
     "ename": "IndexError",
     "evalue": "list index out of range",
     "output_type": "error",
     "traceback": [
      "\u001b[1;31m---------------------------------------------------------------------------\u001b[0m",
      "\u001b[1;31mIndexError\u001b[0m                                Traceback (most recent call last)",
      "Cell \u001b[1;32mIn[2], line 36\u001b[0m\n\u001b[0;32m     34\u001b[0m \u001b[38;5;28;01mfor\u001b[39;00m i \u001b[38;5;129;01min\u001b[39;00m \u001b[38;5;28mrange\u001b[39m(\u001b[38;5;241m0\u001b[39m,m):\n\u001b[0;32m     35\u001b[0m     \u001b[38;5;28;01mif\u001b[39;00m i \u001b[38;5;241m<\u001b[39m \u001b[38;5;241m12\u001b[39m:\n\u001b[1;32m---> 36\u001b[0m         \u001b[38;5;28mprint\u001b[39m(\u001b[43mdata\u001b[49m\u001b[43m[\u001b[49m\u001b[38;5;124;43m'\u001b[39;49m\u001b[38;5;124;43mforecast\u001b[39;49m\u001b[38;5;124;43m'\u001b[39;49m\u001b[43m]\u001b[49m\u001b[43m[\u001b[49m\u001b[38;5;124;43m'\u001b[39;49m\u001b[38;5;124;43mforecastday\u001b[39;49m\u001b[38;5;124;43m'\u001b[39;49m\u001b[43m]\u001b[49m\u001b[43m[\u001b[49m\u001b[43mi\u001b[49m\u001b[43m]\u001b[49m[\u001b[38;5;124m'\u001b[39m\u001b[38;5;124mdate\u001b[39m\u001b[38;5;124m'\u001b[39m])\n\u001b[0;32m     37\u001b[0m         curr \u001b[38;5;241m=\u001b[39m data[\u001b[38;5;124m'\u001b[39m\u001b[38;5;124mforecast\u001b[39m\u001b[38;5;124m'\u001b[39m][\u001b[38;5;124m'\u001b[39m\u001b[38;5;124mforecastday\u001b[39m\u001b[38;5;124m'\u001b[39m][i][\u001b[38;5;124m'\u001b[39m\u001b[38;5;124mdate\u001b[39m\u001b[38;5;124m'\u001b[39m]\n\u001b[0;32m     38\u001b[0m         cd \u001b[38;5;241m=\u001b[39m  data[\u001b[38;5;124m'\u001b[39m\u001b[38;5;124mforecast\u001b[39m\u001b[38;5;124m'\u001b[39m][\u001b[38;5;124m'\u001b[39m\u001b[38;5;124mforecastday\u001b[39m\u001b[38;5;124m'\u001b[39m][i][\u001b[38;5;124m'\u001b[39m\u001b[38;5;124mhour\u001b[39m\u001b[38;5;124m'\u001b[39m][\u001b[38;5;241m0\u001b[39m][\u001b[38;5;124m'\u001b[39m\u001b[38;5;124mcondition\u001b[39m\u001b[38;5;124m'\u001b[39m][\u001b[38;5;124m'\u001b[39m\u001b[38;5;124mcode\u001b[39m\u001b[38;5;124m'\u001b[39m]\n",
      "\u001b[1;31mIndexError\u001b[0m: list index out of range"
     ]
    }
   ],
   "source": [
    "## weather that include both  0-14 days and 14-300 days \n",
    "\n",
    "\n",
    "import datetime\n",
    "\n",
    "import requests\n",
    "num = input(\"enter the number of days for forecast \")\n",
    "city= input(\"Enter the city\")\n",
    "url = 'https://api.weatherapi.com/v1/forecast.json?key=e997e759eb8f4d5c805100222232301&q='+city+'&days='+num\n",
    "res= requests.get(url)\n",
    "data= res.json()\n",
    "\n",
    "m =int(num)\n",
    "rain = {1195:\"Heavy Rain\",1276:\"Moderate or Heavy rain with Thunder\",1240:\"Light rain shower\",1243:\"Moderate or Heavy rain shower\",1246:\"Torrential rain shower\",1183:\"Light rain\"}\n",
    "#print( data['forecast']['forecastday'][i]['hour'][0]['condition']['code'])\n",
    "if(m < 14): #14\n",
    "    for i in range(0, m):\n",
    "        curr = data['forecast']['forecastday'][i]['date']\n",
    "        print(data['forecast']['forecastday'][i]['hour'][0]['condition']['text'])\n",
    "        cd =  data['forecast']['forecastday'][i]['hour'][0]['condition']['code']\n",
    "        if cd == 1195 or cd == 1276 or cd == 1240 or cd == 1243 or cd == 1246 or cd == 1183:\n",
    "            \n",
    "            print(rain[cd],\":\",curr)\n",
    "            \n",
    "        \n",
    "else:# executes when we have to find the weather for 14-300 days\n",
    "    t = 0\n",
    "    de = data['forecast']['forecastday'][0]['date']\n",
    "    date = de\n",
    "    date = date.split(\"-\")\n",
    "    date = [int(i) for i in date]\n",
    "    y,mo,d = date[0],date[1],date[2] \n",
    "    start_date = datetime.date(y, mo, d)\n",
    "    for i in range(0,m):\n",
    "        if i < 12:\n",
    "            print(data['forecast']['forecastday'][i]['date'])\n",
    "            curr = data['forecast']['forecastday'][i]['date']\n",
    "            cd =  data['forecast']['forecastday'][i]['hour'][0]['condition']['code']\n",
    "            if cd == 1195 or cd == 1276 or cd == 1240 or cd == 1243 or cd == 1246 or cd == 1183:\n",
    "                print(rain[cd],\":\",curr)\n",
    "            \n",
    "        else:\n",
    "            \n",
    "\n",
    "            if t == 0:\n",
    "                delta = datetime.timedelta(days=14)\n",
    "                start_date += delta\n",
    "                delta = datetime.timedelta(days = 1)\n",
    "                \n",
    "                t = 1\n",
    "            else:\n",
    "                delta = datetime.timedelta(days=1)\n",
    "                start_date += delta\n",
    "            url1= 'http://api.weatherapi.com/v1/future.json?key=e997e759eb8f4d5c805100222232301&q='+city+'&dt='+str(start_date)\n",
    "            res1= requests.get(url1)\n",
    "            data1= res1.json()\n",
    "            cd= data1['forecast']['forecastday'][0]['day']['condition']['code']# to get the weather code\n",
    "            \n",
    "            if cd == 1195 or cd == 1276 or cd == 1240 or cd == 1243 or cd == 1246 or cd == 1183:\n",
    "                print(rain[cd],\":\",start_date)\n",
    "            \n",
    "                \n",
    "                \n",
    "        \n",
    "        \n",
    "        \n",
    "        \n",
    "    \n",
    "    \n",
    "\n",
    "        "
   ]
  },
  {
   "cell_type": "code",
   "execution_count": null,
   "id": "dab82b14",
   "metadata": {},
   "outputs": [],
   "source": []
  },
  {
   "cell_type": "code",
   "execution_count": null,
   "id": "252c2474",
   "metadata": {},
   "outputs": [],
   "source": []
  }
 ],
 "metadata": {
  "kernelspec": {
   "display_name": "Python 3 (ipykernel)",
   "language": "python",
   "name": "python3"
  },
  "language_info": {
   "codemirror_mode": {
    "name": "ipython",
    "version": 3
   },
   "file_extension": ".py",
   "mimetype": "text/x-python",
   "name": "python",
   "nbconvert_exporter": "python",
   "pygments_lexer": "ipython3",
   "version": "3.10.9"
  }
 },
 "nbformat": 4,
 "nbformat_minor": 5
}
