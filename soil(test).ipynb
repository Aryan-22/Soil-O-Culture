{
 "cells": [
  {
   "cell_type": "code",
   "execution_count": 16,
   "id": "8ca81d5b",
   "metadata": {
    "scrolled": false
   },
   "outputs": [
    {
     "data": {
      "text/html": [
       "<div>\n",
       "<style scoped>\n",
       "    .dataframe tbody tr th:only-of-type {\n",
       "        vertical-align: middle;\n",
       "    }\n",
       "\n",
       "    .dataframe tbody tr th {\n",
       "        vertical-align: top;\n",
       "    }\n",
       "\n",
       "    .dataframe thead th {\n",
       "        text-align: right;\n",
       "    }\n",
       "</style>\n",
       "<table border=\"1\" class=\"dataframe\">\n",
       "  <thead>\n",
       "    <tr style=\"text-align: right;\">\n",
       "      <th></th>\n",
       "      <th>NITROGEN</th>\n",
       "      <th>PHOSPHORUS</th>\n",
       "      <th>POTASSIUM</th>\n",
       "      <th>TEMPERATURE</th>\n",
       "      <th>HUMIDITY</th>\n",
       "      <th>PH</th>\n",
       "      <th>RAINFALL</th>\n",
       "      <th>CROP</th>\n",
       "    </tr>\n",
       "  </thead>\n",
       "  <tbody>\n",
       "    <tr>\n",
       "      <th>0</th>\n",
       "      <td>90.000000</td>\n",
       "      <td>42.000000</td>\n",
       "      <td>43.000000</td>\n",
       "      <td>21.000000</td>\n",
       "      <td>82.000000</td>\n",
       "      <td>6.500000</td>\n",
       "      <td>203.000000</td>\n",
       "      <td>rice</td>\n",
       "    </tr>\n",
       "    <tr>\n",
       "      <th>1</th>\n",
       "      <td>85.000000</td>\n",
       "      <td>58.000000</td>\n",
       "      <td>41.000000</td>\n",
       "      <td>22.000000</td>\n",
       "      <td>80.000000</td>\n",
       "      <td>7.000000</td>\n",
       "      <td>227.000000</td>\n",
       "      <td>rice</td>\n",
       "    </tr>\n",
       "    <tr>\n",
       "      <th>2</th>\n",
       "      <td>60.000000</td>\n",
       "      <td>55.000000</td>\n",
       "      <td>44.000000</td>\n",
       "      <td>23.000000</td>\n",
       "      <td>82.000000</td>\n",
       "      <td>7.800000</td>\n",
       "      <td>264.000000</td>\n",
       "      <td>rice</td>\n",
       "    </tr>\n",
       "    <tr>\n",
       "      <th>3</th>\n",
       "      <td>74.000000</td>\n",
       "      <td>35.000000</td>\n",
       "      <td>40.000000</td>\n",
       "      <td>26.000000</td>\n",
       "      <td>80.000000</td>\n",
       "      <td>7.000000</td>\n",
       "      <td>243.000000</td>\n",
       "      <td>rice</td>\n",
       "    </tr>\n",
       "    <tr>\n",
       "      <th>4</th>\n",
       "      <td>78.000000</td>\n",
       "      <td>42.000000</td>\n",
       "      <td>42.000000</td>\n",
       "      <td>20.000000</td>\n",
       "      <td>82.000000</td>\n",
       "      <td>7.600000</td>\n",
       "      <td>263.000000</td>\n",
       "      <td>rice</td>\n",
       "    </tr>\n",
       "    <tr>\n",
       "      <th>...</th>\n",
       "      <td>...</td>\n",
       "      <td>...</td>\n",
       "      <td>...</td>\n",
       "      <td>...</td>\n",
       "      <td>...</td>\n",
       "      <td>...</td>\n",
       "      <td>...</td>\n",
       "      <td>...</td>\n",
       "    </tr>\n",
       "    <tr>\n",
       "      <th>2396</th>\n",
       "      <td>43.685741</td>\n",
       "      <td>13.449040</td>\n",
       "      <td>253.415466</td>\n",
       "      <td>15.931577</td>\n",
       "      <td>46.977683</td>\n",
       "      <td>7.081783</td>\n",
       "      <td>256.922983</td>\n",
       "      <td>wheat</td>\n",
       "    </tr>\n",
       "    <tr>\n",
       "      <th>2397</th>\n",
       "      <td>42.824988</td>\n",
       "      <td>12.371845</td>\n",
       "      <td>258.921071</td>\n",
       "      <td>17.359929</td>\n",
       "      <td>45.463647</td>\n",
       "      <td>6.974514</td>\n",
       "      <td>256.266133</td>\n",
       "      <td>wheat</td>\n",
       "    </tr>\n",
       "    <tr>\n",
       "      <th>2398</th>\n",
       "      <td>47.581428</td>\n",
       "      <td>12.574671</td>\n",
       "      <td>258.296629</td>\n",
       "      <td>15.270635</td>\n",
       "      <td>40.512941</td>\n",
       "      <td>7.044163</td>\n",
       "      <td>252.189214</td>\n",
       "      <td>wheat</td>\n",
       "    </tr>\n",
       "    <tr>\n",
       "      <th>2399</th>\n",
       "      <td>41.915093</td>\n",
       "      <td>14.054842</td>\n",
       "      <td>259.211594</td>\n",
       "      <td>14.775843</td>\n",
       "      <td>40.876699</td>\n",
       "      <td>7.375927</td>\n",
       "      <td>250.862623</td>\n",
       "      <td>wheat</td>\n",
       "    </tr>\n",
       "    <tr>\n",
       "      <th>2400</th>\n",
       "      <td>47.440885</td>\n",
       "      <td>13.429322</td>\n",
       "      <td>259.071899</td>\n",
       "      <td>17.988414</td>\n",
       "      <td>49.039197</td>\n",
       "      <td>7.210755</td>\n",
       "      <td>257.781379</td>\n",
       "      <td>wheat</td>\n",
       "    </tr>\n",
       "  </tbody>\n",
       "</table>\n",
       "<p>2401 rows × 8 columns</p>\n",
       "</div>"
      ],
      "text/plain": [
       "       NITROGEN  PHOSPHORUS   POTASSIUM  TEMPERATURE   HUMIDITY        PH  \\\n",
       "0     90.000000   42.000000   43.000000    21.000000  82.000000  6.500000   \n",
       "1     85.000000   58.000000   41.000000    22.000000  80.000000  7.000000   \n",
       "2     60.000000   55.000000   44.000000    23.000000  82.000000  7.800000   \n",
       "3     74.000000   35.000000   40.000000    26.000000  80.000000  7.000000   \n",
       "4     78.000000   42.000000   42.000000    20.000000  82.000000  7.600000   \n",
       "...         ...         ...         ...          ...        ...       ...   \n",
       "2396  43.685741   13.449040  253.415466    15.931577  46.977683  7.081783   \n",
       "2397  42.824988   12.371845  258.921071    17.359929  45.463647  6.974514   \n",
       "2398  47.581428   12.574671  258.296629    15.270635  40.512941  7.044163   \n",
       "2399  41.915093   14.054842  259.211594    14.775843  40.876699  7.375927   \n",
       "2400  47.440885   13.429322  259.071899    17.988414  49.039197  7.210755   \n",
       "\n",
       "        RAINFALL   CROP  \n",
       "0     203.000000   rice  \n",
       "1     227.000000   rice  \n",
       "2     264.000000   rice  \n",
       "3     243.000000   rice  \n",
       "4     263.000000   rice  \n",
       "...          ...    ...  \n",
       "2396  256.922983  wheat  \n",
       "2397  256.266133  wheat  \n",
       "2398  252.189214  wheat  \n",
       "2399  250.862623  wheat  \n",
       "2400  257.781379  wheat  \n",
       "\n",
       "[2401 rows x 8 columns]"
      ]
     },
     "execution_count": 16,
     "metadata": {},
     "output_type": "execute_result"
    }
   ],
   "source": [
    "import numpy as np\n",
    "import pandas as pd\n",
    "import matplotlib.pyplot as plt\n",
    "%matplotlib inline\n",
    "from sklearn.metrics import classification_report\n",
    "from sklearn import metrics\n",
    "from sklearn import tree\n",
    "\n",
    "df = pd.read_csv(\"crop.csv\")\n",
    "df"
   ]
  },
  {
   "cell_type": "code",
   "execution_count": 20,
   "id": "f1187d7a",
   "metadata": {},
   "outputs": [
    {
     "name": "stdout",
     "output_type": "stream",
     "text": [
      "Collecting pandas_profiling\n",
      "  Downloading pandas_profiling-3.6.6-py2.py3-none-any.whl (324 kB)\n",
      "     -------------------------------------- 324.4/324.4 kB 9.8 MB/s eta 0:00:00\n",
      "Collecting ydata-profiling\n",
      "  Downloading ydata_profiling-4.3.1-py2.py3-none-any.whl (352 kB)\n",
      "     ------------------------------------- 353.0/353.0 kB 11.1 MB/s eta 0:00:00\n",
      "Requirement already satisfied: statsmodels<1,>=0.13.2 in c:\\users\\aryan\\anaconda3\\lib\\site-packages (from ydata-profiling->pandas_profiling) (0.13.5)\n",
      "Collecting imagehash==4.3.1\n",
      "  Using cached ImageHash-4.3.1-py2.py3-none-any.whl (296 kB)\n",
      "Collecting visions[type_image_path]==0.7.5\n",
      "  Downloading visions-0.7.5-py3-none-any.whl (102 kB)\n",
      "     -------------------------------------- 102.7/102.7 kB 5.8 MB/s eta 0:00:00\n",
      "Requirement already satisfied: tqdm<5,>=4.48.2 in c:\\users\\aryan\\anaconda3\\lib\\site-packages (from ydata-profiling->pandas_profiling) (4.64.1)\n",
      "Requirement already satisfied: requests<3,>=2.24.0 in c:\\users\\aryan\\anaconda3\\lib\\site-packages (from ydata-profiling->pandas_profiling) (2.28.1)\n",
      "Collecting multimethod<2,>=1.4\n",
      "  Using cached multimethod-1.9.1-py3-none-any.whl (10 kB)\n",
      "Requirement already satisfied: matplotlib<4,>=3.2 in c:\\users\\aryan\\anaconda3\\lib\\site-packages (from ydata-profiling->pandas_profiling) (3.7.0)\n",
      "Requirement already satisfied: pandas!=1.4.0,<2.1,>1.1 in c:\\users\\aryan\\anaconda3\\lib\\site-packages (from ydata-profiling->pandas_profiling) (1.5.3)\n",
      "Requirement already satisfied: scipy<1.11,>=1.4.1 in c:\\users\\aryan\\anaconda3\\lib\\site-packages (from ydata-profiling->pandas_profiling) (1.10.0)\n",
      "Requirement already satisfied: numpy<1.24,>=1.16.0 in c:\\users\\aryan\\anaconda3\\lib\\site-packages (from ydata-profiling->pandas_profiling) (1.23.5)\n",
      "Collecting dacite>=1.8\n",
      "  Downloading dacite-1.8.1-py3-none-any.whl (14 kB)\n",
      "Collecting typeguard<3,>=2.13.2\n",
      "  Using cached typeguard-2.13.3-py3-none-any.whl (17 kB)\n",
      "Collecting wordcloud>=1.9.1\n",
      "  Downloading wordcloud-1.9.2-cp310-cp310-win_amd64.whl (152 kB)\n",
      "     ---------------------------------------- 152.1/152.1 kB ? eta 0:00:00\n",
      "Requirement already satisfied: jinja2<3.2,>=2.11.1 in c:\\users\\aryan\\anaconda3\\lib\\site-packages (from ydata-profiling->pandas_profiling) (3.1.2)\n",
      "Collecting htmlmin==0.1.12\n",
      "  Using cached htmlmin-0.1.12.tar.gz (19 kB)\n",
      "  Preparing metadata (setup.py): started\n",
      "  Preparing metadata (setup.py): finished with status 'done'\n",
      "Requirement already satisfied: seaborn<0.13,>=0.10.1 in c:\\users\\aryan\\anaconda3\\lib\\site-packages (from ydata-profiling->pandas_profiling) (0.12.2)\n",
      "Requirement already satisfied: PyYAML<6.1,>=5.0.0 in c:\\users\\aryan\\anaconda3\\lib\\site-packages (from ydata-profiling->pandas_profiling) (6.0)\n",
      "Collecting pydantic<2,>=1.8.1\n",
      "  Downloading pydantic-1.10.10-cp310-cp310-win_amd64.whl (2.1 MB)\n",
      "     ---------------------------------------- 2.1/2.1 MB 2.5 MB/s eta 0:00:00\n",
      "Collecting phik<0.13,>=0.11.1\n",
      "  Downloading phik-0.12.3-cp310-cp310-win_amd64.whl (663 kB)\n",
      "     -------------------------------------- 663.4/663.4 kB 8.4 MB/s eta 0:00:00\n",
      "Requirement already satisfied: pillow in c:\\users\\aryan\\anaconda3\\lib\\site-packages (from imagehash==4.3.1->ydata-profiling->pandas_profiling) (9.4.0)\n",
      "Requirement already satisfied: PyWavelets in c:\\users\\aryan\\anaconda3\\lib\\site-packages (from imagehash==4.3.1->ydata-profiling->pandas_profiling) (1.4.1)\n",
      "Collecting tangled-up-in-unicode>=0.0.4\n",
      "  Using cached tangled_up_in_unicode-0.2.0-py3-none-any.whl (4.7 MB)\n",
      "Requirement already satisfied: networkx>=2.4 in c:\\users\\aryan\\anaconda3\\lib\\site-packages (from visions[type_image_path]==0.7.5->ydata-profiling->pandas_profiling) (2.8.4)\n",
      "Requirement already satisfied: attrs>=19.3.0 in c:\\users\\aryan\\anaconda3\\lib\\site-packages (from visions[type_image_path]==0.7.5->ydata-profiling->pandas_profiling) (22.1.0)\n",
      "Requirement already satisfied: MarkupSafe>=2.0 in c:\\users\\aryan\\anaconda3\\lib\\site-packages (from jinja2<3.2,>=2.11.1->ydata-profiling->pandas_profiling) (2.1.1)\n",
      "Requirement already satisfied: cycler>=0.10 in c:\\users\\aryan\\anaconda3\\lib\\site-packages (from matplotlib<4,>=3.2->ydata-profiling->pandas_profiling) (0.11.0)\n",
      "Requirement already satisfied: contourpy>=1.0.1 in c:\\users\\aryan\\anaconda3\\lib\\site-packages (from matplotlib<4,>=3.2->ydata-profiling->pandas_profiling) (1.0.5)\n",
      "Requirement already satisfied: fonttools>=4.22.0 in c:\\users\\aryan\\anaconda3\\lib\\site-packages (from matplotlib<4,>=3.2->ydata-profiling->pandas_profiling) (4.25.0)\n",
      "Requirement already satisfied: python-dateutil>=2.7 in c:\\users\\aryan\\anaconda3\\lib\\site-packages (from matplotlib<4,>=3.2->ydata-profiling->pandas_profiling) (2.8.2)\n",
      "Requirement already satisfied: pyparsing>=2.3.1 in c:\\users\\aryan\\anaconda3\\lib\\site-packages (from matplotlib<4,>=3.2->ydata-profiling->pandas_profiling) (3.0.9)\n",
      "Requirement already satisfied: kiwisolver>=1.0.1 in c:\\users\\aryan\\anaconda3\\lib\\site-packages (from matplotlib<4,>=3.2->ydata-profiling->pandas_profiling) (1.4.4)\n",
      "Requirement already satisfied: packaging>=20.0 in c:\\users\\aryan\\anaconda3\\lib\\site-packages (from matplotlib<4,>=3.2->ydata-profiling->pandas_profiling) (22.0)\n",
      "Requirement already satisfied: pytz>=2020.1 in c:\\users\\aryan\\anaconda3\\lib\\site-packages (from pandas!=1.4.0,<2.1,>1.1->ydata-profiling->pandas_profiling) (2022.7)\n",
      "Requirement already satisfied: joblib>=0.14.1 in c:\\users\\aryan\\anaconda3\\lib\\site-packages (from phik<0.13,>=0.11.1->ydata-profiling->pandas_profiling) (1.1.1)\n",
      "Requirement already satisfied: typing-extensions>=4.2.0 in c:\\users\\aryan\\anaconda3\\lib\\site-packages (from pydantic<2,>=1.8.1->ydata-profiling->pandas_profiling) (4.4.0)\n",
      "Requirement already satisfied: idna<4,>=2.5 in c:\\users\\aryan\\anaconda3\\lib\\site-packages (from requests<3,>=2.24.0->ydata-profiling->pandas_profiling) (3.4)\n",
      "Requirement already satisfied: charset-normalizer<3,>=2 in c:\\users\\aryan\\anaconda3\\lib\\site-packages (from requests<3,>=2.24.0->ydata-profiling->pandas_profiling) (2.0.4)\n",
      "Requirement already satisfied: urllib3<1.27,>=1.21.1 in c:\\users\\aryan\\anaconda3\\lib\\site-packages (from requests<3,>=2.24.0->ydata-profiling->pandas_profiling) (1.26.14)\n",
      "Requirement already satisfied: certifi>=2017.4.17 in c:\\users\\aryan\\anaconda3\\lib\\site-packages (from requests<3,>=2.24.0->ydata-profiling->pandas_profiling) (2022.12.7)\n",
      "Requirement already satisfied: patsy>=0.5.2 in c:\\users\\aryan\\anaconda3\\lib\\site-packages (from statsmodels<1,>=0.13.2->ydata-profiling->pandas_profiling) (0.5.3)\n",
      "Requirement already satisfied: colorama in c:\\users\\aryan\\anaconda3\\lib\\site-packages (from tqdm<5,>=4.48.2->ydata-profiling->pandas_profiling) (0.4.6)\n",
      "Requirement already satisfied: six in c:\\users\\aryan\\anaconda3\\lib\\site-packages (from patsy>=0.5.2->statsmodels<1,>=0.13.2->ydata-profiling->pandas_profiling) (1.16.0)\n",
      "Building wheels for collected packages: htmlmin\n",
      "  Building wheel for htmlmin (setup.py): started\n",
      "  Building wheel for htmlmin (setup.py): finished with status 'done'\n",
      "  Created wheel for htmlmin: filename=htmlmin-0.1.12-py3-none-any.whl size=27092 sha256=1cc05870cb14830c8e02d3e52d295a9c6fb2d098063d919c8d78b3d1e1ffc9e9\n",
      "  Stored in directory: c:\\users\\aryan\\appdata\\local\\pip\\cache\\wheels\\ea\\1c\\a8\\5cec3479cd45136a7111e2d96aac299b219b199c411665250b\n",
      "Successfully built htmlmin\n",
      "Installing collected packages: htmlmin, typeguard, tangled-up-in-unicode, pydantic, multimethod, dacite, imagehash, wordcloud, visions, phik, ydata-profiling, pandas_profiling\n",
      "Successfully installed dacite-1.8.1 htmlmin-0.1.12 imagehash-4.3.1 multimethod-1.9.1 pandas_profiling-3.6.6 phik-0.12.3 pydantic-1.10.10 tangled-up-in-unicode-0.2.0 typeguard-2.13.3 visions-0.7.5 wordcloud-1.9.2 ydata-profiling-4.3.1\n"
     ]
    }
   ],
   "source": [
    "!pip install pandas_profiling"
   ]
  },
  {
   "cell_type": "code",
   "execution_count": 22,
   "id": "2901cd0e",
   "metadata": {},
   "outputs": [],
   "source": [
    "from pandas_profiling import ProfileReport"
   ]
  },
  {
   "cell_type": "code",
   "execution_count": 25,
   "id": "156ac8a6",
   "metadata": {},
   "outputs": [],
   "source": [
    "crop_report = ProfileReport(df)"
   ]
  },
  {
   "cell_type": "code",
   "execution_count": 26,
   "id": "75e6b572",
   "metadata": {},
   "outputs": [
    {
     "data": {
      "application/vnd.jupyter.widget-view+json": {
       "model_id": "b86d812b16ce4fb28bca419fac4e5565",
       "version_major": 2,
       "version_minor": 0
      },
      "text/plain": [
       "Summarize dataset:   0%|          | 0/5 [00:00<?, ?it/s]"
      ]
     },
     "metadata": {},
     "output_type": "display_data"
    },
    {
     "data": {
      "application/vnd.jupyter.widget-view+json": {
       "model_id": "bfa465b2b58549428f96f3be4b483542",
       "version_major": 2,
       "version_minor": 0
      },
      "text/plain": [
       "Generate report structure:   0%|          | 0/1 [00:00<?, ?it/s]"
      ]
     },
     "metadata": {},
     "output_type": "display_data"
    },
    {
     "data": {
      "application/vnd.jupyter.widget-view+json": {
       "model_id": "16fbd833cde24705b1c631b44c1df607",
       "version_major": 2,
       "version_minor": 0
      },
      "text/plain": [
       "Render HTML:   0%|          | 0/1 [00:00<?, ?it/s]"
      ]
     },
     "metadata": {},
     "output_type": "display_data"
    },
    {
     "data": {
      "application/vnd.jupyter.widget-view+json": {
       "model_id": "a169ab51f23b4ab2b35c31f4224c6c35",
       "version_major": 2,
       "version_minor": 0
      },
      "text/plain": [
       "Export report to file:   0%|          | 0/1 [00:00<?, ?it/s]"
      ]
     },
     "metadata": {},
     "output_type": "display_data"
    }
   ],
   "source": [
    "crop_report.to_file(\"crop_report.html\")"
   ]
  },
  {
   "cell_type": "code",
   "execution_count": 29,
   "id": "5ca1a481",
   "metadata": {
    "scrolled": true
   },
   "outputs": [],
   "source": [
    "features = df.iloc[:,:7].values\n",
    "labels = df[\"CROP\"]\n",
    "\n",
    "\n",
    "\n"
   ]
  },
  {
   "cell_type": "code",
   "execution_count": 30,
   "id": "5f7cfe67",
   "metadata": {
    "scrolled": true
   },
   "outputs": [
    {
     "name": "stdout",
     "output_type": "stream",
     "text": [
      "X_training dataset\n",
      "[[ 37.          64.          22.         ...  19.           6.\n",
      "  122.        ]\n",
      " [ 98.96487904   4.34045559 223.5187992  ...  44.9184072    6.86864798\n",
      "  147.7576598 ]\n",
      " [121.          36.          24.         ...  82.           7.4\n",
      "   99.        ]\n",
      " ...\n",
      " [ 87.          28.          30.         ...  69.           6.5\n",
      "  169.        ]\n",
      " [104.          35.          28.         ...  51.           7.\n",
      "  144.        ]\n",
      " [116.          40.          33.         ...  54.           7.\n",
      "  130.        ]]\n",
      "X_test dataset\n",
      "[[107.   31.   31.  ...  53.    6.8 153. ]\n",
      " [ 48.   62.   15.  ...  67.    7.5  66. ]\n",
      " [ 86.   39.   43.  ...  71.    6.4 193. ]\n",
      " ...\n",
      " [ 93.   91.   47.  ...  83.    6.1 117. ]\n",
      " [ 19.   26.   29.  ...  99.    5.7 167. ]\n",
      " [115.   11.   46.  ...  89.    6.6  40. ]]\n",
      "Y_training dataset\n",
      "323     kidneybeans\n",
      "2248      sugarcane\n",
      "1920         cotton\n",
      "1256         grapes\n",
      "1756         papaya\n",
      "           ...     \n",
      "1477      muskmelon\n",
      "1706         papaya\n",
      "2158         coffee\n",
      "2184         coffee\n",
      "2174         coffee\n",
      "Name: CROP, Length: 1800, dtype: object\n",
      "Y_test dataset\n",
      "2188         coffee\n",
      "727       blackgram\n",
      "2082           jute\n",
      "119           maize\n",
      "903     pomegranate\n",
      "           ...     \n",
      "330     kidneybeans\n",
      "1246         grapes\n",
      "1030         banana\n",
      "1899        coconut\n",
      "1364     watermelon\n",
      "Name: CROP, Length: 601, dtype: object\n"
     ]
    }
   ],
   "source": [
    "from sklearn.model_selection import train_test_split\n",
    "X_train,X_test,Y_train,Y_test = train_test_split(features,labels,test_size = 0.25)\n",
    "print(\"X_training dataset\")\n",
    "print(X_train)\n",
    "print(\"X_test dataset\")\n",
    "print(X_test)\n",
    "print(\"Y_training dataset\")\n",
    "print(Y_train)\n",
    "print(\"Y_test dataset\")\n",
    "print(Y_test)"
   ]
  },
  {
   "cell_type": "code",
   "execution_count": 8,
   "id": "b66ed6c4",
   "metadata": {},
   "outputs": [],
   "source": [
    "from sklearn.preprocessing import MinMaxScaler\n",
    "scaler = MinMaxScaler()\n",
    "X_train = scaler.fit_transform(X_train)\n",
    "X_test = scaler.transform(X_test)"
   ]
  },
  {
   "cell_type": "code",
   "execution_count": 31,
   "id": "b7a9d6e8",
   "metadata": {
    "scrolled": true
   },
   "outputs": [],
   "source": [
    "acc = []\n",
    "model = []\n"
   ]
  },
  {
   "cell_type": "markdown",
   "id": "203c683e",
   "metadata": {},
   "source": [
    "# Decision Tree "
   ]
  },
  {
   "cell_type": "code",
   "execution_count": 33,
   "id": "f5bb1617",
   "metadata": {
    "scrolled": false
   },
   "outputs": [
    {
     "name": "stdout",
     "output_type": "stream",
     "text": [
      "['coffee' 'blackgram' 'jute' 'maize' 'pomegranate' 'pomegranate'\n",
      " 'blackgram' 'lentil' 'mothbeans' 'wheat' 'maize' 'mothbeans' 'wheat'\n",
      " 'lentil' 'chickpea' 'coffee' 'lentil' 'sugarcane' 'sugarcane' 'mungbean'\n",
      " 'rice' 'wheat' 'watermelon' 'mango' 'grapes' 'apple' 'mothbeans' 'cotton'\n",
      " 'coffee' 'cotton' 'coffee' 'kidneybeans' 'sugarcane' 'banana' 'orange'\n",
      " 'mango' 'orange' 'coffee' 'kidneybeans' 'chickpea' 'rice' 'rice'\n",
      " 'mothbeans' 'coffee' 'muskmelon' 'jute' 'coconut' 'jute' 'sugarcane'\n",
      " 'mothbeans' 'blackgram' 'coconut' 'apple' 'apple' 'cotton' 'lentil'\n",
      " 'grapes' 'coffee' 'apple' 'coffee' 'apple' 'pigeonpeas' 'mungbean'\n",
      " 'coconut' 'papaya' 'cotton' 'cotton' 'pigeonpeas' 'mothbeans' 'coconut'\n",
      " 'coffee' 'apple' 'chickpea' 'pomegranate' 'banana' 'apple' 'banana'\n",
      " 'mango' 'papaya' 'apple' 'banana' 'mungbean' 'grapes' 'mango' 'mungbean'\n",
      " 'grapes' 'apple' 'maize' 'mothbeans' 'blackgram' 'banana' 'pomegranate'\n",
      " 'blackgram' 'wheat' 'mango' 'maize' 'apple' 'muskmelon' 'kidneybeans'\n",
      " 'cotton' 'wheat' 'wheat' 'coffee' 'blackgram' 'muskmelon' 'coconut'\n",
      " 'lentil' 'pigeonpeas' 'maize' 'blackgram' 'mango' 'lentil' 'blackgram'\n",
      " 'grapes' 'chickpea' 'apple' 'watermelon' 'coconut' 'sugarcane' 'papaya'\n",
      " 'maize' 'papaya' 'banana' 'muskmelon' 'mango' 'pigeonpeas' 'mothbeans'\n",
      " 'grapes' 'pomegranate' 'apple' 'grapes' 'grapes' 'mungbean' 'rice'\n",
      " 'papaya' 'sugarcane' 'mothbeans' 'mango' 'grapes' 'maize' 'mothbeans'\n",
      " 'rice' 'mungbean' 'jute' 'maize' 'rice' 'lentil' 'coffee' 'mango'\n",
      " 'orange' 'lentil' 'blackgram' 'jute' 'papaya' 'kidneybeans' 'lentil'\n",
      " 'muskmelon' 'rice' 'wheat' 'mungbean' 'sugarcane' 'sugarcane' 'mango'\n",
      " 'muskmelon' 'papaya' 'sugarcane' 'apple' 'blackgram' 'pomegranate'\n",
      " 'lentil' 'maize' 'watermelon' 'mungbean' 'rice' 'maize' 'sugarcane'\n",
      " 'papaya' 'mungbean' 'apple' 'watermelon' 'maize' 'blackgram' 'chickpea'\n",
      " 'sugarcane' 'cotton' 'coffee' 'coffee' 'orange' 'wheat' 'blackgram'\n",
      " 'sugarcane' 'muskmelon' 'rice' 'maize' 'wheat' 'muskmelon' 'muskmelon'\n",
      " 'maize' 'kidneybeans' 'wheat' 'mungbean' 'pomegranate' 'pigeonpeas'\n",
      " 'mango' 'apple' 'apple' 'lentil' 'blackgram' 'chickpea' 'cotton'\n",
      " 'chickpea' 'maize' 'papaya' 'papaya' 'cotton' 'wheat' 'pomegranate'\n",
      " 'lentil' 'pomegranate' 'blackgram' 'cotton' 'jute' 'rice' 'mango' 'maize'\n",
      " 'muskmelon' 'chickpea' 'rice' 'pigeonpeas' 'mungbean' 'wheat' 'blackgram'\n",
      " 'cotton' 'muskmelon' 'mothbeans' 'mungbean' 'mungbean' 'orange' 'grapes'\n",
      " 'pigeonpeas' 'orange' 'sugarcane' 'wheat' 'mothbeans' 'papaya' 'rice'\n",
      " 'orange' 'maize' 'banana' 'lentil' 'lentil' 'pigeonpeas' 'kidneybeans'\n",
      " 'lentil' 'blackgram' 'grapes' 'blackgram' 'watermelon' 'rice' 'muskmelon'\n",
      " 'coconut' 'orange' 'lentil' 'watermelon' 'sugarcane' 'rice' 'jute'\n",
      " 'lentil' 'chickpea' 'cotton' 'watermelon' 'cotton' 'mango' 'rice'\n",
      " 'sugarcane' 'orange' 'banana' 'chickpea' 'pomegranate' 'grapes'\n",
      " 'chickpea' 'banana' 'apple' 'cotton' 'banana' 'lentil' 'mothbeans'\n",
      " 'wheat' 'coffee' 'grapes' 'watermelon' 'lentil' 'mango' 'pomegranate'\n",
      " 'pomegranate' 'banana' 'cotton' 'mango' 'coffee' 'blackgram'\n",
      " 'pomegranate' 'lentil' 'chickpea' 'papaya' 'maize' 'orange' 'mungbean'\n",
      " 'lentil' 'muskmelon' 'lentil' 'jute' 'blackgram' 'orange' 'grapes'\n",
      " 'coffee' 'mothbeans' 'apple' 'orange' 'papaya' 'kidneybeans' 'papaya'\n",
      " 'mungbean' 'pomegranate' 'apple' 'wheat' 'coconut' 'pigeonpeas' 'orange'\n",
      " 'banana' 'kidneybeans' 'muskmelon' 'apple' 'coffee' 'papaya' 'sugarcane'\n",
      " 'watermelon' 'pomegranate' 'mango' 'banana' 'watermelon' 'maize'\n",
      " 'mungbean' 'pigeonpeas' 'mango' 'pomegranate' 'chickpea' 'muskmelon'\n",
      " 'cotton' 'coconut' 'kidneybeans' 'mungbean' 'pigeonpeas' 'maize' 'lentil'\n",
      " 'orange' 'pomegranate' 'jute' 'lentil' 'pigeonpeas' 'pomegranate' 'rice'\n",
      " 'pigeonpeas' 'mango' 'wheat' 'pomegranate' 'wheat' 'wheat' 'pomegranate'\n",
      " 'pomegranate' 'mango' 'mungbean' 'kidneybeans' 'orange' 'chickpea'\n",
      " 'muskmelon' 'pigeonpeas' 'orange' 'mothbeans' 'kidneybeans' 'pigeonpeas'\n",
      " 'lentil' 'muskmelon' 'wheat' 'kidneybeans' 'pomegranate' 'maize' 'maize'\n",
      " 'rice' 'coconut' 'lentil' 'kidneybeans' 'muskmelon' 'sugarcane' 'banana'\n",
      " 'chickpea' 'kidneybeans' 'rice' 'muskmelon' 'grapes' 'blackgram'\n",
      " 'pomegranate' 'blackgram' 'orange' 'banana' 'orange' 'coconut'\n",
      " 'sugarcane' 'watermelon' 'jute' 'blackgram' 'lentil' 'apple' 'mothbeans'\n",
      " 'mango' 'apple' 'coconut' 'rice' 'watermelon' 'coconut' 'mango'\n",
      " 'watermelon' 'watermelon' 'pigeonpeas' 'coffee' 'cotton' 'coconut'\n",
      " 'pigeonpeas' 'blackgram' 'papaya' 'mothbeans' 'jute' 'mungbean' 'mango'\n",
      " 'pomegranate' 'coffee' 'chickpea' 'cotton' 'mothbeans' 'watermelon'\n",
      " 'blackgram' 'coconut' 'grapes' 'coconut' 'muskmelon' 'coffee' 'mango'\n",
      " 'banana' 'rice' 'grapes' 'coconut' 'mungbean' 'coffee' 'blackgram'\n",
      " 'papaya' 'mungbean' 'watermelon' 'sugarcane' 'maize' 'muskmelon' 'coffee'\n",
      " 'jute' 'kidneybeans' 'muskmelon' 'wheat' 'sugarcane' 'jute' 'rice'\n",
      " 'watermelon' 'watermelon' 'grapes' 'watermelon' 'banana' 'watermelon'\n",
      " 'cotton' 'pomegranate' 'lentil' 'papaya' 'apple' 'watermelon'\n",
      " 'pomegranate' 'banana' 'papaya' 'cotton' 'wheat' 'coffee' 'rice'\n",
      " 'sugarcane' 'mango' 'chickpea' 'orange' 'wheat' 'jute' 'pomegranate'\n",
      " 'rice' 'coffee' 'maize' 'muskmelon' 'pomegranate' 'blackgram' 'rice'\n",
      " 'orange' 'pigeonpeas' 'cotton' 'chickpea' 'rice' 'chickpea' 'mothbeans'\n",
      " 'muskmelon' 'muskmelon' 'mothbeans' 'lentil' 'watermelon' 'apple'\n",
      " 'orange' 'muskmelon' 'muskmelon' 'coconut' 'maize' 'banana' 'mungbean'\n",
      " 'cotton' 'mango' 'mango' 'coconut' 'cotton' 'jute' 'muskmelon' 'lentil'\n",
      " 'grapes' 'cotton' 'orange' 'rice' 'mungbean' 'chickpea' 'jute' 'maize'\n",
      " 'wheat' 'papaya' 'jute' 'maize' 'pomegranate' 'mothbeans' 'cotton'\n",
      " 'apple' 'coconut' 'pigeonpeas' 'papaya' 'watermelon' 'watermelon'\n",
      " 'coconut' 'mango' 'orange' 'pomegranate' 'muskmelon' 'blackgram'\n",
      " 'sugarcane' 'cotton' 'rice' 'kidneybeans' 'wheat' 'wheat' 'coconut'\n",
      " 'banana' 'kidneybeans' 'sugarcane' 'coconut' 'apple' 'muskmelon'\n",
      " 'blackgram' 'pigeonpeas' 'mothbeans' 'coffee' 'rice' 'lentil' 'grapes'\n",
      " 'pomegranate' 'papaya' 'jute' 'kidneybeans' 'maize' 'rice' 'cotton'\n",
      " 'sugarcane' 'orange' 'maize' 'papaya' 'mothbeans' 'watermelon'\n",
      " 'pomegranate' 'apple' 'pigeonpeas' 'wheat' 'papaya' 'sugarcane' 'coffee'\n",
      " 'muskmelon' 'kidneybeans' 'grapes' 'banana' 'coconut' 'watermelon']\n",
      "Decision Tree's accuracy is: 98.66888519134775%\n",
      "              precision    recall  f1-score   support\n",
      "\n",
      "       apple       1.00      1.00      1.00        27\n",
      "      banana       1.00      1.00      1.00        21\n",
      "   blackgram       1.00      0.97      0.98        29\n",
      "    chickpea       1.00      1.00      1.00        20\n",
      "     coconut       1.00      1.00      1.00        24\n",
      "      coffee       1.00      0.96      0.98        27\n",
      "      cotton       1.00      1.00      1.00        27\n",
      "      grapes       1.00      1.00      1.00        21\n",
      "        jute       0.94      0.81      0.87        21\n",
      " kidneybeans       1.00      1.00      1.00        19\n",
      "      lentil       0.97      1.00      0.98        30\n",
      "       maize       0.93      1.00      0.96        26\n",
      "       mango       1.00      1.00      1.00        27\n",
      "   mothbeans       1.00      0.96      0.98        24\n",
      "    mungbean       1.00      1.00      1.00        23\n",
      "   muskmelon       1.00      1.00      1.00        31\n",
      "      orange       1.00      1.00      1.00        24\n",
      "      papaya       0.96      1.00      0.98        23\n",
      "  pigeonpeas       1.00      1.00      1.00        21\n",
      " pomegranate       1.00      1.00      1.00        32\n",
      "        rice       0.90      0.96      0.93        27\n",
      "   sugarcane       1.00      1.00      1.00        25\n",
      "  watermelon       1.00      1.00      1.00        26\n",
      "       wheat       1.00      1.00      1.00        26\n",
      "\n",
      "    accuracy                           0.99       601\n",
      "   macro avg       0.99      0.99      0.99       601\n",
      "weighted avg       0.99      0.99      0.99       601\n",
      "\n"
     ]
    }
   ],
   "source": [
    "from sklearn.tree import DecisionTreeClassifier\n",
    "DecisionTree = DecisionTreeClassifier(random_state = 42)\n",
    "DecisionTree.fit(X_train,Y_train)\n",
    "predicted_values = DecisionTree.predict(X_test)\n",
    "print(predicted_values)\n",
    "x = metrics.accuracy_score(Y_test,predicted_values)\n",
    "acc.append(x)\n",
    "model.append(\"Decision Tree\")\n",
    "print(\"Decision Tree's accuracy is: {}%\".format(x * 100))\n",
    "print(classification_report(Y_test,predicted_values))\n"
   ]
  },
  {
   "cell_type": "markdown",
   "id": "5b8b14a8",
   "metadata": {},
   "source": [
    "# Logistic Regression"
   ]
  },
  {
   "cell_type": "code",
   "execution_count": 11,
   "id": "705b9dd4",
   "metadata": {
    "scrolled": false
   },
   "outputs": [
    {
     "name": "stdout",
     "output_type": "stream",
     "text": [
      "Logistic Regression's accuracy is: 92.34608985024958%\n",
      "              precision    recall  f1-score   support\n",
      "\n",
      "       apple       1.00      1.00      1.00        22\n",
      "      banana       1.00      1.00      1.00        28\n",
      "   blackgram       0.83      0.86      0.85        29\n",
      "    chickpea       1.00      1.00      1.00        19\n",
      "     coconut       0.90      1.00      0.95        27\n",
      "      coffee       1.00      1.00      1.00        24\n",
      "      cotton       0.96      1.00      0.98        22\n",
      "      grapes       1.00      1.00      1.00        30\n",
      "        jute       1.00      0.72      0.84        25\n",
      " kidneybeans       0.88      1.00      0.94        30\n",
      "      lentil       0.77      0.96      0.86        25\n",
      "       maize       1.00      0.95      0.97        19\n",
      "       mango       0.83      1.00      0.91        24\n",
      "   mothbeans       1.00      0.74      0.85        27\n",
      "    mungbean       0.97      1.00      0.98        28\n",
      "   muskmelon       0.93      1.00      0.96        26\n",
      "      orange       1.00      0.54      0.70        24\n",
      "      papaya       0.93      0.88      0.90        32\n",
      "  pigeonpeas       1.00      0.70      0.82        30\n",
      " pomegranate       0.73      1.00      0.84        16\n",
      "        rice       0.67      1.00      0.80        20\n",
      "   sugarcane       1.00      1.00      1.00        26\n",
      "  watermelon       1.00      0.91      0.95        22\n",
      "       wheat       1.00      1.00      1.00        26\n",
      "\n",
      "    accuracy                           0.92       601\n",
      "   macro avg       0.93      0.93      0.92       601\n",
      "weighted avg       0.94      0.92      0.92       601\n",
      "\n"
     ]
    }
   ],
   "source": [
    "from sklearn.linear_model import LogisticRegression\n",
    "\n",
    "LogReg = LogisticRegression(max_iter = 100)\n",
    "\n",
    "LogReg.fit(X_train,Y_train)\n",
    "\n",
    "predicted_values = LogReg.predict(X_test)\n",
    "\n",
    "x = metrics.accuracy_score(Y_test, predicted_values)\n",
    "acc.append(x)\n",
    "model.append('Logistic Regression')\n",
    "print(\"Logistic Regression's accuracy is: {}%\".format(x * 100))\n",
    "print(classification_report(Y_test,predicted_values))"
   ]
  },
  {
   "cell_type": "markdown",
   "id": "c97db96c",
   "metadata": {},
   "source": [
    "# Random Forest"
   ]
  },
  {
   "cell_type": "code",
   "execution_count": 12,
   "id": "ad3057d8",
   "metadata": {
    "scrolled": false
   },
   "outputs": [
    {
     "name": "stdout",
     "output_type": "stream",
     "text": [
      "RF's Accuracy is:  0.9950083194675541\n",
      "              precision    recall  f1-score   support\n",
      "\n",
      "       apple       1.00      1.00      1.00        22\n",
      "      banana       1.00      1.00      1.00        28\n",
      "   blackgram       1.00      1.00      1.00        29\n",
      "    chickpea       1.00      1.00      1.00        19\n",
      "     coconut       1.00      1.00      1.00        27\n",
      "      coffee       1.00      1.00      1.00        24\n",
      "      cotton       1.00      1.00      1.00        22\n",
      "      grapes       1.00      1.00      1.00        30\n",
      "        jute       0.92      0.96      0.94        25\n",
      " kidneybeans       1.00      1.00      1.00        30\n",
      "      lentil       1.00      1.00      1.00        25\n",
      "       maize       1.00      1.00      1.00        19\n",
      "       mango       1.00      1.00      1.00        24\n",
      "   mothbeans       1.00      1.00      1.00        27\n",
      "    mungbean       1.00      1.00      1.00        28\n",
      "   muskmelon       1.00      1.00      1.00        26\n",
      "      orange       1.00      1.00      1.00        24\n",
      "      papaya       1.00      1.00      1.00        32\n",
      "  pigeonpeas       1.00      1.00      1.00        30\n",
      " pomegranate       1.00      1.00      1.00        16\n",
      "        rice       0.95      0.90      0.92        20\n",
      "   sugarcane       1.00      1.00      1.00        26\n",
      "  watermelon       1.00      1.00      1.00        22\n",
      "       wheat       1.00      1.00      1.00        26\n",
      "\n",
      "    accuracy                           1.00       601\n",
      "   macro avg       0.99      0.99      0.99       601\n",
      "weighted avg       1.00      1.00      0.99       601\n",
      "\n"
     ]
    }
   ],
   "source": [
    "from sklearn.ensemble import RandomForestClassifier\n",
    "\n",
    "RF = RandomForestClassifier(n_estimators=20, random_state=0)\n",
    "RF.fit(X_train,Y_train)\n",
    "\n",
    "predicted_values = RF.predict(X_test)\n",
    "\n",
    "x = metrics.accuracy_score(Y_test, predicted_values)\n",
    "acc.append(x)\n",
    "model.append('RF')\n",
    "print(\"RF's Accuracy is: \", x)\n",
    "\n",
    "print(classification_report(Y_test,predicted_values))"
   ]
  },
  {
   "cell_type": "markdown",
   "id": "4354947e",
   "metadata": {},
   "source": [
    "# XGBoost"
   ]
  },
  {
   "cell_type": "code",
   "execution_count": 13,
   "id": "8ecf6358",
   "metadata": {
    "scrolled": true
   },
   "outputs": [
    {
     "name": "stdout",
     "output_type": "stream",
     "text": [
      "[15:12:30] WARNING: C:\\Windows\\Temp\\abs_557yfx631l\\croots\\recipe\\xgboost-split_1659548953302\\work\\src\\learner.cc:1115: Starting in XGBoost 1.3.0, the default evaluation metric used with the objective 'multi:softprob' was changed from 'merror' to 'mlogloss'. Explicitly set eval_metric if you'd like to restore the old behavior.\n"
     ]
    },
    {
     "name": "stderr",
     "output_type": "stream",
     "text": [
      "C:\\Users\\aryan\\anaconda3\\lib\\site-packages\\xgboost\\sklearn.py:1224: UserWarning: The use of label encoder in XGBClassifier is deprecated and will be removed in a future release. To remove this warning, do the following: 1) Pass option use_label_encoder=False when constructing XGBClassifier object; and 2) Encode your labels (y) as integers starting with 0, i.e. 0, 1, 2, ..., [num_class - 1].\n",
      "  warnings.warn(label_encoder_deprecation_msg, UserWarning)\n"
     ]
    },
    {
     "name": "stdout",
     "output_type": "stream",
     "text": [
      "Logistic Regression's accuracy is: 99.16805324459234%\n",
      "              precision    recall  f1-score   support\n",
      "\n",
      "       apple       1.00      1.00      1.00        22\n",
      "      banana       1.00      1.00      1.00        28\n",
      "   blackgram       0.97      1.00      0.98        29\n",
      "    chickpea       1.00      1.00      1.00        19\n",
      "     coconut       1.00      1.00      1.00        27\n",
      "      coffee       1.00      1.00      1.00        24\n",
      "      cotton       1.00      1.00      1.00        22\n",
      "      grapes       1.00      1.00      1.00        30\n",
      "        jute       0.96      0.96      0.96        25\n",
      " kidneybeans       1.00      1.00      1.00        30\n",
      "      lentil       1.00      1.00      1.00        25\n",
      "       maize       1.00      1.00      1.00        19\n",
      "       mango       0.92      1.00      0.96        24\n",
      "   mothbeans       1.00      1.00      1.00        27\n",
      "    mungbean       1.00      1.00      1.00        28\n",
      "   muskmelon       1.00      1.00      1.00        26\n",
      "      orange       1.00      1.00      1.00        24\n",
      "      papaya       1.00      1.00      1.00        32\n",
      "  pigeonpeas       1.00      0.90      0.95        30\n",
      " pomegranate       1.00      1.00      1.00        16\n",
      "        rice       0.95      0.95      0.95        20\n",
      "   sugarcane       1.00      1.00      1.00        26\n",
      "  watermelon       1.00      1.00      1.00        22\n",
      "       wheat       1.00      1.00      1.00        26\n",
      "\n",
      "    accuracy                           0.99       601\n",
      "   macro avg       0.99      0.99      0.99       601\n",
      "weighted avg       0.99      0.99      0.99       601\n",
      "\n"
     ]
    }
   ],
   "source": [
    "\n",
    "import xgboost as xgb\n",
    "XB = xgb.XGBClassifier()\n",
    "XB.fit(X_train,Y_train)\n",
    "\n",
    "predicted_values = XB.predict(X_test)\n",
    "\n",
    "x = metrics.accuracy_score(Y_test, predicted_values)\n",
    "acc.append(x)\n",
    "model.append('XGBoost')\n",
    "print(\"Logistic Regression's accuracy is: {}%\".format(x * 100))\n",
    "\n",
    "print(classification_report(Y_test,predicted_values))"
   ]
  },
  {
   "cell_type": "markdown",
   "id": "a5a1ed35",
   "metadata": {},
   "source": [
    "# Support Vector Machine"
   ]
  },
  {
   "cell_type": "code",
   "execution_count": 14,
   "id": "e696c6fa",
   "metadata": {},
   "outputs": [
    {
     "name": "stdout",
     "output_type": "stream",
     "text": [
      "SVM's accuracy is: 98.00332778702163%\n",
      "              precision    recall  f1-score   support\n",
      "\n",
      "       apple       1.00      1.00      1.00        22\n",
      "      banana       1.00      1.00      1.00        28\n",
      "   blackgram       0.91      1.00      0.95        29\n",
      "    chickpea       1.00      1.00      1.00        19\n",
      "     coconut       1.00      1.00      1.00        27\n",
      "      coffee       1.00      0.96      0.98        24\n",
      "      cotton       1.00      0.95      0.98        22\n",
      "      grapes       1.00      1.00      1.00        30\n",
      "        jute       0.80      0.96      0.87        25\n",
      " kidneybeans       0.97      1.00      0.98        30\n",
      "      lentil       1.00      1.00      1.00        25\n",
      "       maize       0.95      1.00      0.97        19\n",
      "       mango       1.00      1.00      1.00        24\n",
      "   mothbeans       1.00      1.00      1.00        27\n",
      "    mungbean       1.00      1.00      1.00        28\n",
      "   muskmelon       1.00      1.00      1.00        26\n",
      "      orange       1.00      1.00      1.00        24\n",
      "      papaya       1.00      1.00      1.00        32\n",
      "  pigeonpeas       1.00      0.87      0.93        30\n",
      " pomegranate       1.00      1.00      1.00        16\n",
      "        rice       0.94      0.75      0.83        20\n",
      "   sugarcane       1.00      1.00      1.00        26\n",
      "  watermelon       1.00      1.00      1.00        22\n",
      "       wheat       1.00      1.00      1.00        26\n",
      "\n",
      "    accuracy                           0.98       601\n",
      "   macro avg       0.98      0.98      0.98       601\n",
      "weighted avg       0.98      0.98      0.98       601\n",
      "\n"
     ]
    }
   ],
   "source": [
    "from sklearn.svm import SVC\n",
    "# data normalization with sklearn\n",
    "from sklearn.preprocessing import MinMaxScaler\n",
    "# fit scaler on training data\n",
    "norm = MinMaxScaler().fit(X_train)\n",
    "X_train_norm = norm.transform(X_train)\n",
    "# transform testing dataabs\n",
    "X_test_norm = norm.transform(X_test)\n",
    "SVM = SVC(kernel='poly', degree=3, C=1)\n",
    "SVM.fit(X_train_norm,Y_train)\n",
    "predicted_values = SVM.predict(X_test_norm)\n",
    "x = metrics.accuracy_score(Y_test, predicted_values)\n",
    "acc.append(x)\n",
    "model.append('SVM')\n",
    "print(\"SVM's accuracy is: {}%\".format(x * 100))\n",
    "\n",
    "print(classification_report(Y_test,predicted_values))"
   ]
  },
  {
   "cell_type": "code",
   "execution_count": 15,
   "id": "bfe2a831",
   "metadata": {
    "scrolled": true
   },
   "outputs": [
    {
     "name": "stdout",
     "output_type": "stream",
     "text": [
      "[0.8618968386023295, 0.9234608985024958, 0.9950083194675541, 0.9916805324459235, 0.9800332778702163]\n",
      "['Decision Tree', 'Logistic Regression', 'RF', 'XGBoost', 'SVM']\n"
     ]
    }
   ],
   "source": [
    "print(acc)\n",
    "print(model)"
   ]
  },
  {
   "cell_type": "markdown",
   "id": "bff4a982",
   "metadata": {},
   "source": [
    "# Comapring Accuracies of models"
   ]
  },
  {
   "cell_type": "code",
   "execution_count": 16,
   "id": "43859021",
   "metadata": {
    "scrolled": false
   },
   "outputs": [
    {
     "data": {
      "text/plain": [
       "<AxesSubplot:title={'center':'Accuracy Comparison'}, xlabel='Accuracy', ylabel='Algorithm'>"
      ]
     },
     "execution_count": 16,
     "metadata": {},
     "output_type": "execute_result"
    },
    {
     "data": {
      "image/png": "[encoded data removed]",
      "text/plain": [
       "<Figure size 1000x500 with 1 Axes>"
      ]
     },
     "metadata": {
      "needs_background": "light"
     },
     "output_type": "display_data"
    }
   ],
   "source": [
    "plt.figure(figsize=[10,5],dpi = 100)\n",
    "plt.title('Accuracy Comparison')\n",
    "plt.xlabel('Accuracy')\n",
    "plt.ylabel('Algorithm')\n",
    "sns.barplot(x = model,y = acc)"
   ]
  },
  {
   "cell_type": "code",
   "execution_count": 17,
   "id": "1993530a",
   "metadata": {
    "scrolled": false
   },
   "outputs": [
    {
     "name": "stdout",
     "output_type": "stream",
     "text": [
      "Decision Tree -> 0.8618968386023295\n",
      "Logistic Regression -> 0.9234608985024958\n",
      "RF -> 0.9950083194675541\n",
      "XGBoost -> 0.9916805324459235\n",
      "SVM -> 0.9800332778702163\n"
     ]
    }
   ],
   "source": [
    "am = dict(zip(model,acc))\n",
    "for x,y in am.items():\n",
    "    print(\"{0} -> {1}\".format(x,y))"
   ]
  },
  {
   "cell_type": "code",
   "execution_count": 18,
   "id": "e8936aaf",
   "metadata": {},
   "outputs": [],
   "source": [
    "#as we can see Naive Bayes and Random Forest are having the highest accuracy\n",
    "#For Our Case we will use Random Forest"
   ]
  },
  {
   "cell_type": "markdown",
   "id": "97077bda",
   "metadata": {},
   "source": [
    "# Example of prediciton using Random Forest"
   ]
  },
  {
   "cell_type": "code",
   "execution_count": 19,
   "id": "fa5b0147",
   "metadata": {},
   "outputs": [
    {
     "name": "stdout",
     "output_type": "stream",
     "text": [
      "['chickpea']\n"
     ]
    }
   ],
   "source": [
    "data = np.array([[59,70,84,17,19,7.6,83]]) #input by the user\n",
    "data = scaler.transform(data)\n",
    "prediction = RF.predict(data) #random forest model predicts the best crop for the given parameters provided by the user\n",
    "print(prediction)"
   ]
  },
  {
   "cell_type": "code",
   "execution_count": null,
   "id": "2c95794f",
   "metadata": {},
   "outputs": [],
   "source": []
  }
 ],
 "metadata": {
  "kernelspec": {
   "display_name": "Python 3 (ipykernel)",
   "language": "python",
   "name": "python3"
  },
  "language_info": {
   "codemirror_mode": {
    "name": "ipython",
    "version": 3
   },
   "file_extension": ".py",
   "mimetype": "text/x-python",
   "name": "python",
   "nbconvert_exporter": "python",
   "pygments_lexer": "ipython3",
   "version": "3.10.9"
  }
 },
 "nbformat": 4,
 "nbformat_minor": 5
}
