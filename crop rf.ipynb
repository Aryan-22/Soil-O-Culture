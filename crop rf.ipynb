{
 "cells": [
  {
   "cell_type": "code",
   "execution_count": 1,
   "id": "d703f94e",
   "metadata": {
    "scrolled": true
   },
   "outputs": [
    {
     "data": {
      "text/html": [
       "<div>\n",
       "<style scoped>\n",
       "    .dataframe tbody tr th:only-of-type {\n",
       "        vertical-align: middle;\n",
       "    }\n",
       "\n",
       "    .dataframe tbody tr th {\n",
       "        vertical-align: top;\n",
       "    }\n",
       "\n",
       "    .dataframe thead th {\n",
       "        text-align: right;\n",
       "    }\n",
       "</style>\n",
       "<table border=\"1\" class=\"dataframe\">\n",
       "  <thead>\n",
       "    <tr style=\"text-align: right;\">\n",
       "      <th></th>\n",
       "      <th>NITROGEN</th>\n",
       "      <th>PHOSPHORUS</th>\n",
       "      <th>POTASSIUM</th>\n",
       "      <th>TEMPERATURE</th>\n",
       "      <th>HUMIDITY</th>\n",
       "      <th>PH</th>\n",
       "      <th>RAINFALL</th>\n",
       "      <th>CROP</th>\n",
       "    </tr>\n",
       "  </thead>\n",
       "  <tbody>\n",
       "    <tr>\n",
       "      <th>0</th>\n",
       "      <td>90.000000</td>\n",
       "      <td>42.000000</td>\n",
       "      <td>43.000000</td>\n",
       "      <td>21.000000</td>\n",
       "      <td>82.000000</td>\n",
       "      <td>6.500000</td>\n",
       "      <td>203.000000</td>\n",
       "      <td>rice</td>\n",
       "    </tr>\n",
       "    <tr>\n",
       "      <th>1</th>\n",
       "      <td>85.000000</td>\n",
       "      <td>58.000000</td>\n",
       "      <td>41.000000</td>\n",
       "      <td>22.000000</td>\n",
       "      <td>80.000000</td>\n",
       "      <td>7.000000</td>\n",
       "      <td>227.000000</td>\n",
       "      <td>rice</td>\n",
       "    </tr>\n",
       "    <tr>\n",
       "      <th>2</th>\n",
       "      <td>60.000000</td>\n",
       "      <td>55.000000</td>\n",
       "      <td>44.000000</td>\n",
       "      <td>23.000000</td>\n",
       "      <td>82.000000</td>\n",
       "      <td>7.800000</td>\n",
       "      <td>264.000000</td>\n",
       "      <td>rice</td>\n",
       "    </tr>\n",
       "    <tr>\n",
       "      <th>3</th>\n",
       "      <td>74.000000</td>\n",
       "      <td>35.000000</td>\n",
       "      <td>40.000000</td>\n",
       "      <td>26.000000</td>\n",
       "      <td>80.000000</td>\n",
       "      <td>7.000000</td>\n",
       "      <td>243.000000</td>\n",
       "      <td>rice</td>\n",
       "    </tr>\n",
       "    <tr>\n",
       "      <th>4</th>\n",
       "      <td>78.000000</td>\n",
       "      <td>42.000000</td>\n",
       "      <td>42.000000</td>\n",
       "      <td>20.000000</td>\n",
       "      <td>82.000000</td>\n",
       "      <td>7.600000</td>\n",
       "      <td>263.000000</td>\n",
       "      <td>rice</td>\n",
       "    </tr>\n",
       "    <tr>\n",
       "      <th>...</th>\n",
       "      <td>...</td>\n",
       "      <td>...</td>\n",
       "      <td>...</td>\n",
       "      <td>...</td>\n",
       "      <td>...</td>\n",
       "      <td>...</td>\n",
       "      <td>...</td>\n",
       "      <td>...</td>\n",
       "    </tr>\n",
       "    <tr>\n",
       "      <th>2396</th>\n",
       "      <td>43.685741</td>\n",
       "      <td>13.449040</td>\n",
       "      <td>253.415466</td>\n",
       "      <td>15.931577</td>\n",
       "      <td>46.977683</td>\n",
       "      <td>7.081783</td>\n",
       "      <td>256.922983</td>\n",
       "      <td>wheat</td>\n",
       "    </tr>\n",
       "    <tr>\n",
       "      <th>2397</th>\n",
       "      <td>42.824988</td>\n",
       "      <td>12.371845</td>\n",
       "      <td>258.921071</td>\n",
       "      <td>17.359929</td>\n",
       "      <td>45.463647</td>\n",
       "      <td>6.974514</td>\n",
       "      <td>256.266133</td>\n",
       "      <td>wheat</td>\n",
       "    </tr>\n",
       "    <tr>\n",
       "      <th>2398</th>\n",
       "      <td>47.581428</td>\n",
       "      <td>12.574671</td>\n",
       "      <td>258.296629</td>\n",
       "      <td>15.270635</td>\n",
       "      <td>40.512941</td>\n",
       "      <td>7.044163</td>\n",
       "      <td>252.189214</td>\n",
       "      <td>wheat</td>\n",
       "    </tr>\n",
       "    <tr>\n",
       "      <th>2399</th>\n",
       "      <td>41.915093</td>\n",
       "      <td>14.054842</td>\n",
       "      <td>259.211594</td>\n",
       "      <td>14.775843</td>\n",
       "      <td>40.876699</td>\n",
       "      <td>7.375927</td>\n",
       "      <td>250.862623</td>\n",
       "      <td>wheat</td>\n",
       "    </tr>\n",
       "    <tr>\n",
       "      <th>2400</th>\n",
       "      <td>47.440885</td>\n",
       "      <td>13.429322</td>\n",
       "      <td>259.071899</td>\n",
       "      <td>17.988414</td>\n",
       "      <td>49.039197</td>\n",
       "      <td>7.210755</td>\n",
       "      <td>257.781379</td>\n",
       "      <td>wheat</td>\n",
       "    </tr>\n",
       "  </tbody>\n",
       "</table>\n",
       "<p>2401 rows × 8 columns</p>\n",
       "</div>"
      ],
      "text/plain": [
       "       NITROGEN  PHOSPHORUS   POTASSIUM  TEMPERATURE   HUMIDITY        PH  \\\n",
       "0     90.000000   42.000000   43.000000    21.000000  82.000000  6.500000   \n",
       "1     85.000000   58.000000   41.000000    22.000000  80.000000  7.000000   \n",
       "2     60.000000   55.000000   44.000000    23.000000  82.000000  7.800000   \n",
       "3     74.000000   35.000000   40.000000    26.000000  80.000000  7.000000   \n",
       "4     78.000000   42.000000   42.000000    20.000000  82.000000  7.600000   \n",
       "...         ...         ...         ...          ...        ...       ...   \n",
       "2396  43.685741   13.449040  253.415466    15.931577  46.977683  7.081783   \n",
       "2397  42.824988   12.371845  258.921071    17.359929  45.463647  6.974514   \n",
       "2398  47.581428   12.574671  258.296629    15.270635  40.512941  7.044163   \n",
       "2399  41.915093   14.054842  259.211594    14.775843  40.876699  7.375927   \n",
       "2400  47.440885   13.429322  259.071899    17.988414  49.039197  7.210755   \n",
       "\n",
       "        RAINFALL   CROP  \n",
       "0     203.000000   rice  \n",
       "1     227.000000   rice  \n",
       "2     264.000000   rice  \n",
       "3     243.000000   rice  \n",
       "4     263.000000   rice  \n",
       "...          ...    ...  \n",
       "2396  256.922983  wheat  \n",
       "2397  256.266133  wheat  \n",
       "2398  252.189214  wheat  \n",
       "2399  250.862623  wheat  \n",
       "2400  257.781379  wheat  \n",
       "\n",
       "[2401 rows x 8 columns]"
      ]
     },
     "execution_count": 1,
     "metadata": {},
     "output_type": "execute_result"
    }
   ],
   "source": [
    "import numpy as np\n",
    "import pandas as pd\n",
    "from sklearn import metrics\n",
    "df = pd.read_csv(\"crop.csv\")\n",
    "df"
   ]
  },
  {
   "cell_type": "code",
   "execution_count": 34,
   "id": "7acd5355",
   "metadata": {
    "scrolled": false
   },
   "outputs": [
    {
     "name": "stdout",
     "output_type": "stream",
     "text": [
      "[[ 90.          42.          43.         ...  82.           6.5\n",
      "  203.        ]\n",
      " [ 85.          58.          41.         ...  80.           7.\n",
      "  227.        ]\n",
      " [ 60.          55.          44.         ...  82.           7.8\n",
      "  264.        ]\n",
      " ...\n",
      " [ 47.58142838  12.57467114 258.2966292  ...  40.51294072   7.04416257\n",
      "  252.1892144 ]\n",
      " [ 41.91509306  14.05484188 259.211594   ...  40.87669853   7.37592702\n",
      "  250.8626228 ]\n",
      " [ 47.44088529  13.42932208 259.0718993  ...  49.03919675   7.2107551\n",
      "  257.7813785 ]]\n",
      "0        rice\n",
      "1        rice\n",
      "2        rice\n",
      "3        rice\n",
      "4        rice\n",
      "        ...  \n",
      "2396    wheat\n",
      "2397    wheat\n",
      "2398    wheat\n",
      "2399    wheat\n",
      "2400    wheat\n",
      "Name: CROP, Length: 2401, dtype: object\n"
     ]
    }
   ],
   "source": [
    "features = df.iloc[:,:7].values\n",
    "print(features)\n",
    "labels = df[\"CROP\"]\n",
    "print(labels)\n",
    "from sklearn.model_selection import train_test_split\n",
    "from sklearn.preprocessing import MinMaxScaler\n",
    "X_train,X_test,Y_train,Y_test = train_test_split(features,labels,test_size = 0.25,random_state = 42)\n"
   ]
  },
  {
   "cell_type": "code",
   "execution_count": 36,
   "id": "3911f02a",
   "metadata": {},
   "outputs": [
    {
     "data": {
      "text/plain": [
       "263      chickpea\n",
       "2073         jute\n",
       "632      mungbean\n",
       "1732       papaya\n",
       "765     blackgram\n",
       "          ...    \n",
       "1638       orange\n",
       "1095       banana\n",
       "1130        mango\n",
       "1294       grapes\n",
       "860        lentil\n",
       "Name: CROP, Length: 1800, dtype: object"
      ]
     },
     "execution_count": 36,
     "metadata": {},
     "output_type": "execute_result"
    }
   ],
   "source": [
    "Y_train"
   ]
  },
  {
   "cell_type": "code",
   "execution_count": 37,
   "id": "8d8c8b74",
   "metadata": {},
   "outputs": [
    {
     "data": {
      "text/html": [
       "<style>#sk-container-id-5 {color: black;background-color: white;}#sk-container-id-5 pre{padding: 0;}#sk-container-id-5 div.sk-toggleable {background-color: white;}#sk-container-id-5 label.sk-toggleable__label {cursor: pointer;display: block;width: 100%;margin-bottom: 0;padding: 0.3em;box-sizing: border-box;text-align: center;}#sk-container-id-5 label.sk-toggleable__label-arrow:before {content: \"▸\";float: left;margin-right: 0.25em;color: #696969;}#sk-container-id-5 label.sk-toggleable__label-arrow:hover:before {color: black;}#sk-container-id-5 div.sk-estimator:hover label.sk-toggleable__label-arrow:before {color: black;}#sk-container-id-5 div.sk-toggleable__content {max-height: 0;max-width: 0;overflow: hidden;text-align: left;background-color: #f0f8ff;}#sk-container-id-5 div.sk-toggleable__content pre {margin: 0.2em;color: black;border-radius: 0.25em;background-color: #f0f8ff;}#sk-container-id-5 input.sk-toggleable__control:checked~div.sk-toggleable__content {max-height: 200px;max-width: 100%;overflow: auto;}#sk-container-id-5 input.sk-toggleable__control:checked~label.sk-toggleable__label-arrow:before {content: \"▾\";}#sk-container-id-5 div.sk-estimator input.sk-toggleable__control:checked~label.sk-toggleable__label {background-color: #d4ebff;}#sk-container-id-5 div.sk-label input.sk-toggleable__control:checked~label.sk-toggleable__label {background-color: #d4ebff;}#sk-container-id-5 input.sk-hidden--visually {border: 0;clip: rect(1px 1px 1px 1px);clip: rect(1px, 1px, 1px, 1px);height: 1px;margin: -1px;overflow: hidden;padding: 0;position: absolute;width: 1px;}#sk-container-id-5 div.sk-estimator {font-family: monospace;background-color: #f0f8ff;border: 1px dotted black;border-radius: 0.25em;box-sizing: border-box;margin-bottom: 0.5em;}#sk-container-id-5 div.sk-estimator:hover {background-color: #d4ebff;}#sk-container-id-5 div.sk-parallel-item::after {content: \"\";width: 100%;border-bottom: 1px solid gray;flex-grow: 1;}#sk-container-id-5 div.sk-label:hover label.sk-toggleable__label {background-color: #d4ebff;}#sk-container-id-5 div.sk-serial::before {content: \"\";position: absolute;border-left: 1px solid gray;box-sizing: border-box;top: 0;bottom: 0;left: 50%;z-index: 0;}#sk-container-id-5 div.sk-serial {display: flex;flex-direction: column;align-items: center;background-color: white;padding-right: 0.2em;padding-left: 0.2em;position: relative;}#sk-container-id-5 div.sk-item {position: relative;z-index: 1;}#sk-container-id-5 div.sk-parallel {display: flex;align-items: stretch;justify-content: center;background-color: white;position: relative;}#sk-container-id-5 div.sk-item::before, #sk-container-id-5 div.sk-parallel-item::before {content: \"\";position: absolute;border-left: 1px solid gray;box-sizing: border-box;top: 0;bottom: 0;left: 50%;z-index: -1;}#sk-container-id-5 div.sk-parallel-item {display: flex;flex-direction: column;z-index: 1;position: relative;background-color: white;}#sk-container-id-5 div.sk-parallel-item:first-child::after {align-self: flex-end;width: 50%;}#sk-container-id-5 div.sk-parallel-item:last-child::after {align-self: flex-start;width: 50%;}#sk-container-id-5 div.sk-parallel-item:only-child::after {width: 0;}#sk-container-id-5 div.sk-dashed-wrapped {border: 1px dashed gray;margin: 0 0.4em 0.5em 0.4em;box-sizing: border-box;padding-bottom: 0.4em;background-color: white;}#sk-container-id-5 div.sk-label label {font-family: monospace;font-weight: bold;display: inline-block;line-height: 1.2em;}#sk-container-id-5 div.sk-label-container {text-align: center;}#sk-container-id-5 div.sk-container {/* jupyter's `normalize.less` sets `[hidden] { display: none; }` but bootstrap.min.css set `[hidden] { display: none !important; }` so we also need the `!important` here to be able to override the default hidden behavior on the sphinx rendered scikit-learn.org. See: https://github.com/scikit-learn/scikit-learn/issues/21755 */display: inline-block !important;position: relative;}#sk-container-id-5 div.sk-text-repr-fallback {display: none;}</style><div id=\"sk-container-id-5\" class=\"sk-top-container\"><div class=\"sk-text-repr-fallback\"><pre>RandomForestClassifier(n_estimators=20, random_state=0)</pre><b>In a Jupyter environment, please rerun this cell to show the HTML representation or trust the notebook. <br />On GitHub, the HTML representation is unable to render, please try loading this page with nbviewer.org.</b></div><div class=\"sk-container\" hidden><div class=\"sk-item\"><div class=\"sk-estimator sk-toggleable\"><input class=\"sk-toggleable__control sk-hidden--visually\" id=\"sk-estimator-id-5\" type=\"checkbox\" checked><label for=\"sk-estimator-id-5\" class=\"sk-toggleable__label sk-toggleable__label-arrow\">RandomForestClassifier</label><div class=\"sk-toggleable__content\"><pre>RandomForestClassifier(n_estimators=20, random_state=0)</pre></div></div></div></div></div>"
      ],
      "text/plain": [
       "RandomForestClassifier(n_estimators=20, random_state=0)"
      ]
     },
     "execution_count": 37,
     "metadata": {},
     "output_type": "execute_result"
    }
   ],
   "source": [
    "from sklearn.ensemble import RandomForestClassifier\n",
    "\n",
    "RF = RandomForestClassifier(n_estimators=20, random_state=0)\n",
    "RF.fit(X_train,Y_train)\n",
    "\n",
    "#model"
   ]
  },
  {
   "cell_type": "code",
   "execution_count": 38,
   "id": "cd228656",
   "metadata": {},
   "outputs": [
    {
     "name": "stdout",
     "output_type": "stream",
     "text": [
      "enter N,P,K,Temp,humidity,ph,rainfall\n",
      "23 1 4 6 8 9 78\n",
      "best crop to grow --> ['kidneybeans']\n"
     ]
    }
   ],
   "source": [
    "#taking user input\n",
    "print(\"enter N,P,K,Temp,humidity,ph,rainfall\")\n",
    "l = list(map(float,input().split()))\n",
    "\n",
    "\n",
    "prediction = RF.predict(a)\n",
    "print(\"best crop to grow --> {}\".format(prediction))\n",
    "    \n",
    "    \n",
    "        \n",
    "    \n",
    "    "
   ]
  },
  {
   "cell_type": "code",
   "execution_count": 39,
   "id": "0101b5f7",
   "metadata": {},
   "outputs": [],
   "source": [
    "import pickle\n",
    "\n",
    "filename = \"crop_recommending.pkl\"\n",
    "\n",
    "# save model\n",
    "pickle.dump(RF, open(filename, \"wb\"))\n"
   ]
  }
 ],
 "metadata": {
  "kernelspec": {
   "display_name": "Python 3 (ipykernel)",
   "language": "python",
   "name": "python3"
  },
  "language_info": {
   "codemirror_mode": {
    "name": "ipython",
    "version": 3
   },
   "file_extension": ".py",
   "mimetype": "text/x-python",
   "name": "python",
   "nbconvert_exporter": "python",
   "pygments_lexer": "ipython3",
   "version": "3.10.9"
  }
 },
 "nbformat": 4,
 "nbformat_minor": 5
}
